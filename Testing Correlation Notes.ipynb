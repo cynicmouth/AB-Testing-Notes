{
 "cells": [
  {
   "cell_type": "markdown",
   "metadata": {
    "toc": true
   },
   "source": [
    "<h1>Table of Contents<span class=\"tocSkip\"></span></h1>\n",
    "<div class=\"toc\"><ul class=\"toc-item\"><li><span><a href=\"#Setup\" data-toc-modified-id=\"Setup-1\"><span class=\"toc-item-num\">1&nbsp;&nbsp;</span>Setup</a></span></li><li><span><a href=\"#Loading-data\" data-toc-modified-id=\"Loading-data-2\"><span class=\"toc-item-num\">2&nbsp;&nbsp;</span>Loading data</a></span></li><li><span><a href=\"#Correlation-Analysis\" data-toc-modified-id=\"Correlation-Analysis-3\"><span class=\"toc-item-num\">3&nbsp;&nbsp;</span>Correlation Analysis</a></span><ul class=\"toc-item\"><li><span><a href=\"#Correlation-Matrix\" data-toc-modified-id=\"Correlation-Matrix-3.1\"><span class=\"toc-item-num\">3.1&nbsp;&nbsp;</span>Correlation Matrix</a></span></li><li><span><a href=\"#Categorical-Variables-Correlation\" data-toc-modified-id=\"Categorical-Variables-Correlation-3.2\"><span class=\"toc-item-num\">3.2&nbsp;&nbsp;</span>Categorical Variables Correlation</a></span></li><li><span><a href=\"#Location\" data-toc-modified-id=\"Location-3.3\"><span class=\"toc-item-num\">3.3&nbsp;&nbsp;</span>Location</a></span></li><li><span><a href=\"#Confounding-Variables\" data-toc-modified-id=\"Confounding-Variables-3.4\"><span class=\"toc-item-num\">3.4&nbsp;&nbsp;</span>Confounding Variables</a></span></li></ul></li><li><span><a href=\"#Paired-Test-Design\" data-toc-modified-id=\"Paired-Test-Design-4\"><span class=\"toc-item-num\">4&nbsp;&nbsp;</span>Paired Test Design</a></span><ul class=\"toc-item\"><li><span><a href=\"#Subjective-Way\" data-toc-modified-id=\"Subjective-Way-4.1\"><span class=\"toc-item-num\">4.1&nbsp;&nbsp;</span>Subjective Way</a></span></li><li><span><a href=\"#Using-KD-Tree-to-find-paired-tests-systematically\" data-toc-modified-id=\"Using-KD-Tree-to-find-paired-tests-systematically-4.2\"><span class=\"toc-item-num\">4.2&nbsp;&nbsp;</span>Using KD-Tree to find paired tests systematically</a></span></li></ul></li></ul></div>"
   ]
  },
  {
   "cell_type": "markdown",
   "metadata": {},
   "source": [
    "# Setup"
   ]
  },
  {
   "cell_type": "code",
   "execution_count": 15,
   "metadata": {},
   "outputs": [],
   "source": [
    "import os\n",
    "import pandas as pd\n",
    "import numpy as np\n",
    "import matplotlib.pyplot as plt\n",
    "from shutil import copyfileobj\n",
    "from six.moves import urllib\n",
    "\n",
    "%matplotlib inline\n",
    "\n",
    "def filepath(data_url, file_name):\n",
    "    data_path = os.path.join('Data')\n",
    "    if not os.path.exists(data_path):\n",
    "        os.makedirs(data_path)\n",
    "    data_save_path = os.path.join(data_path, file_name)\n",
    "    \n",
    "    if not os.path.exists(data_save_path):\n",
    "        data_local = urllib.request.urlopen(data_url)\n",
    "        with open(data_save_path, \"wb\") as csv_file:\n",
    "            copyfileobj(data_local, csv_file)\n",
    "\n",
    "        \n",
    "    return data_save_path\n",
    "\n",
    "data_url = 'http://video.udacity-data.com.s3.amazonaws.com/topher/2017/February/58926735_newproductcontroldata/newproductcontroldata.csv'\n",
    "file_name = 'newproductcontroldata.csv'\n",
    "\n",
    "data = filepath(data_url, file_name)\n",
    "\n",
    "treatment_url = 'http://video.udacity-data.com.s3.amazonaws.com/topher/2016/September/57d439f7_grapeproducttreatmentstores/grapeproducttreatmentstores.csv'\n",
    "treatment_file = 'grapeproducttreatmentstores.csv'\n",
    "treatment = filepath(treatment_url, treatment_file)"
   ]
  },
  {
   "cell_type": "markdown",
   "metadata": {},
   "source": [
    "# Loading data"
   ]
  },
  {
   "cell_type": "code",
   "execution_count": 2,
   "metadata": {},
   "outputs": [
    {
     "name": "stdout",
     "output_type": "stream",
     "text": [
      "(7008, 7)\n"
     ]
    },
    {
     "data": {
      "text/html": [
       "<div>\n",
       "<style scoped>\n",
       "    .dataframe tbody tr th:only-of-type {\n",
       "        vertical-align: middle;\n",
       "    }\n",
       "\n",
       "    .dataframe tbody tr th {\n",
       "        vertical-align: top;\n",
       "    }\n",
       "\n",
       "    .dataframe thead th {\n",
       "        text-align: right;\n",
       "    }\n",
       "</style>\n",
       "<table border=\"1\" class=\"dataframe\">\n",
       "  <thead>\n",
       "    <tr style=\"text-align: right;\">\n",
       "      <th></th>\n",
       "      <th>Store ID</th>\n",
       "      <th>City</th>\n",
       "      <th>State</th>\n",
       "      <th>Zip Code</th>\n",
       "      <th>Category Sales</th>\n",
       "      <th>Product Count</th>\n",
       "      <th>Size</th>\n",
       "    </tr>\n",
       "  </thead>\n",
       "  <tbody>\n",
       "    <tr>\n",
       "      <th>0</th>\n",
       "      <td>1</td>\n",
       "      <td>ALABASTER</td>\n",
       "      <td>AL</td>\n",
       "      <td>35007</td>\n",
       "      <td>18.88</td>\n",
       "      <td>1</td>\n",
       "      <td>Large</td>\n",
       "    </tr>\n",
       "    <tr>\n",
       "      <th>1</th>\n",
       "      <td>2</td>\n",
       "      <td>BIRMINGHAM</td>\n",
       "      <td>AL</td>\n",
       "      <td>35209</td>\n",
       "      <td>44125.66</td>\n",
       "      <td>6</td>\n",
       "      <td>Large</td>\n",
       "    </tr>\n",
       "    <tr>\n",
       "      <th>2</th>\n",
       "      <td>3</td>\n",
       "      <td>DECATUR</td>\n",
       "      <td>AL</td>\n",
       "      <td>35601</td>\n",
       "      <td>46627.92</td>\n",
       "      <td>5</td>\n",
       "      <td>Large</td>\n",
       "    </tr>\n",
       "    <tr>\n",
       "      <th>3</th>\n",
       "      <td>4</td>\n",
       "      <td>HUNTSVILLE</td>\n",
       "      <td>AL</td>\n",
       "      <td>35806</td>\n",
       "      <td>26658.48</td>\n",
       "      <td>6</td>\n",
       "      <td>Large</td>\n",
       "    </tr>\n",
       "    <tr>\n",
       "      <th>4</th>\n",
       "      <td>5</td>\n",
       "      <td>MOBILE</td>\n",
       "      <td>AL</td>\n",
       "      <td>36606</td>\n",
       "      <td>1863.60</td>\n",
       "      <td>3</td>\n",
       "      <td>Large</td>\n",
       "    </tr>\n",
       "  </tbody>\n",
       "</table>\n",
       "</div>"
      ],
      "text/plain": [
       "   Store ID        City State  Zip Code  Category Sales  Product Count   Size\n",
       "0         1   ALABASTER    AL     35007           18.88              1  Large\n",
       "1         2  BIRMINGHAM    AL     35209        44125.66              6  Large\n",
       "2         3     DECATUR    AL     35601        46627.92              5  Large\n",
       "3         4  HUNTSVILLE    AL     35806        26658.48              6  Large\n",
       "4         5      MOBILE    AL     36606         1863.60              3  Large"
      ]
     },
     "execution_count": 2,
     "metadata": {},
     "output_type": "execute_result"
    }
   ],
   "source": [
    "df = pd.read_csv(data)\n",
    "print(df.shape)\n",
    "df.head()"
   ]
  },
  {
   "cell_type": "markdown",
   "metadata": {},
   "source": [
    "# Correlation Analysis"
   ]
  },
  {
   "cell_type": "markdown",
   "metadata": {},
   "source": [
    "## Correlation Matrix"
   ]
  },
  {
   "cell_type": "code",
   "execution_count": 3,
   "metadata": {},
   "outputs": [
    {
     "data": {
      "text/plain": [
       "<matplotlib.axes._subplots.AxesSubplot at 0x1a190b9588>"
      ]
     },
     "execution_count": 3,
     "metadata": {},
     "output_type": "execute_result"
    },
    {
     "data": {
      "image/png": "[encoded data removed]",
      "text/plain": [
       "<Figure size 792x360 with 2 Axes>"
      ]
     },
     "metadata": {
      "needs_background": "light"
     },
     "output_type": "display_data"
    }
   ],
   "source": [
    "import seaborn as sns\n",
    "\n",
    "corr_matrix = df[['Category Sales','Product Count']].corr()\n",
    "\n",
    "\n",
    "# setting up color map\n",
    "cmap = sns.diverging_palette(220, 10, as_cmap = True)\n",
    "\n",
    "plt.figure(figsize = (11,5))\n",
    "sns.heatmap(corr_matrix, cmap = cmap)"
   ]
  },
  {
   "cell_type": "markdown",
   "metadata": {},
   "source": [
    "We can see that Category Sales are quite positively correlated to Product Count"
   ]
  },
  {
   "cell_type": "code",
   "execution_count": 4,
   "metadata": {},
   "outputs": [
    {
     "data": {
      "text/html": [
       "<div>\n",
       "<style scoped>\n",
       "    .dataframe tbody tr th:only-of-type {\n",
       "        vertical-align: middle;\n",
       "    }\n",
       "\n",
       "    .dataframe tbody tr th {\n",
       "        vertical-align: top;\n",
       "    }\n",
       "\n",
       "    .dataframe thead th {\n",
       "        text-align: right;\n",
       "    }\n",
       "</style>\n",
       "<table border=\"1\" class=\"dataframe\">\n",
       "  <thead>\n",
       "    <tr style=\"text-align: right;\">\n",
       "      <th></th>\n",
       "      <th>Category Sales</th>\n",
       "      <th>Product Count</th>\n",
       "    </tr>\n",
       "  </thead>\n",
       "  <tbody>\n",
       "    <tr>\n",
       "      <th>Category Sales</th>\n",
       "      <td>1.000000</td>\n",
       "      <td>0.431881</td>\n",
       "    </tr>\n",
       "    <tr>\n",
       "      <th>Product Count</th>\n",
       "      <td>0.431881</td>\n",
       "      <td>1.000000</td>\n",
       "    </tr>\n",
       "  </tbody>\n",
       "</table>\n",
       "</div>"
      ],
      "text/plain": [
       "                Category Sales  Product Count\n",
       "Category Sales        1.000000       0.431881\n",
       "Product Count         0.431881       1.000000"
      ]
     },
     "execution_count": 4,
     "metadata": {},
     "output_type": "execute_result"
    }
   ],
   "source": [
    "corr_matrix"
   ]
  },
  {
   "cell_type": "markdown",
   "metadata": {},
   "source": [
    "With a 0.43 Correlation Coefficient"
   ]
  },
  {
   "cell_type": "markdown",
   "metadata": {},
   "source": [
    "## Categorical Variables Correlation"
   ]
  },
  {
   "cell_type": "markdown",
   "metadata": {},
   "source": [
    "Ignore Future Warning:"
   ]
  },
  {
   "cell_type": "code",
   "execution_count": 5,
   "metadata": {},
   "outputs": [],
   "source": [
    "import warnings\n",
    "warnings.filterwarnings('ignore', category = FutureWarning)"
   ]
  },
  {
   "cell_type": "markdown",
   "metadata": {},
   "source": [
    "We used a Violin Plot with `Seaborn` here because there are a lot of outliers"
   ]
  },
  {
   "cell_type": "code",
   "execution_count": 6,
   "metadata": {},
   "outputs": [
    {
     "data": {
      "text/plain": [
       "<seaborn.axisgrid.FacetGrid at 0x1a19524f60>"
      ]
     },
     "execution_count": 6,
     "metadata": {},
     "output_type": "execute_result"
    },
    {
     "data": {
      "text/plain": [
       "<Figure size 792x360 with 0 Axes>"
      ]
     },
     "metadata": {},
     "output_type": "display_data"
    },
    {
     "data": {
      "image/png": "[encoded data removed]",
      "text/plain": [
       "<Figure size 360x360 with 1 Axes>"
      ]
     },
     "metadata": {
      "needs_background": "light"
     },
     "output_type": "display_data"
    }
   ],
   "source": [
    "plt.figure(figsize = (11,5))\n",
    "sns.catplot(x = 'Category Sales', y= 'Size' , data = df, kind = 'violin')"
   ]
  },
  {
   "cell_type": "markdown",
   "metadata": {},
   "source": [
    "In this case, the Store Size seems not to have a very good correlation to Sales"
   ]
  },
  {
   "cell_type": "markdown",
   "metadata": {},
   "source": [
    "## Location"
   ]
  },
  {
   "cell_type": "markdown",
   "metadata": {},
   "source": [
    "We can use `groupby` then `agg` and `nunique()` method to aggregate the data to see how many distinct Store ID there are by combination of City, State and Zip Code."
   ]
  },
  {
   "cell_type": "code",
   "execution_count": 7,
   "metadata": {},
   "outputs": [
    {
     "data": {
      "text/html": [
       "<div>\n",
       "<style scoped>\n",
       "    .dataframe tbody tr th:only-of-type {\n",
       "        vertical-align: middle;\n",
       "    }\n",
       "\n",
       "    .dataframe tbody tr th {\n",
       "        vertical-align: top;\n",
       "    }\n",
       "\n",
       "    .dataframe thead th {\n",
       "        text-align: right;\n",
       "    }\n",
       "</style>\n",
       "<table border=\"1\" class=\"dataframe\">\n",
       "  <thead>\n",
       "    <tr style=\"text-align: right;\">\n",
       "      <th></th>\n",
       "      <th></th>\n",
       "      <th></th>\n",
       "      <th>Store ID</th>\n",
       "    </tr>\n",
       "    <tr>\n",
       "      <th>City</th>\n",
       "      <th>State</th>\n",
       "      <th>Zip Code</th>\n",
       "      <th></th>\n",
       "    </tr>\n",
       "  </thead>\n",
       "  <tbody>\n",
       "    <tr>\n",
       "      <th>Bentonville</th>\n",
       "      <th>AR</th>\n",
       "      <th>72712</th>\n",
       "      <td>11</td>\n",
       "    </tr>\n",
       "    <tr>\n",
       "      <th>Chino</th>\n",
       "      <th>CA</th>\n",
       "      <th>91710</th>\n",
       "      <td>7</td>\n",
       "    </tr>\n",
       "    <tr>\n",
       "      <th>Tulsa</th>\n",
       "      <th>OK</th>\n",
       "      <th>74133</th>\n",
       "      <td>6</td>\n",
       "    </tr>\n",
       "    <tr>\n",
       "      <th>El Paso</th>\n",
       "      <th>TX</th>\n",
       "      <th>79936</th>\n",
       "      <td>6</td>\n",
       "    </tr>\n",
       "    <tr>\n",
       "      <th>San Francisco</th>\n",
       "      <th>CA</th>\n",
       "      <th>94103</th>\n",
       "      <td>6</td>\n",
       "    </tr>\n",
       "  </tbody>\n",
       "</table>\n",
       "</div>"
      ],
      "text/plain": [
       "                              Store ID\n",
       "City          State Zip Code          \n",
       "Bentonville   AR    72712           11\n",
       "Chino         CA    91710            7\n",
       "Tulsa         OK    74133            6\n",
       "El Paso       TX    79936            6\n",
       "San Francisco CA    94103            6"
      ]
     },
     "execution_count": 7,
     "metadata": {},
     "output_type": "execute_result"
    }
   ],
   "source": [
    "df.groupby(['City','State','Zip Code']).agg(\n",
    "    {'Store ID': lambda x: x.nunique()}).sort_values(\n",
    "    by = 'Store ID', ascending = False).head()"
   ]
  },
  {
   "cell_type": "markdown",
   "metadata": {},
   "source": [
    "Seems like at Zip-5 level; most locations have only 1 store (with total of 7008 stores); if we go higher at City Level, there are more stores at that level for sure; but we are only getting about 2 stores per city -- that's not good for comparison, so we should go one level further"
   ]
  },
  {
   "cell_type": "code",
   "execution_count": 8,
   "metadata": {},
   "outputs": [
    {
     "data": {
      "text/plain": [
       "Store ID    2.06239\n",
       "dtype: float64"
      ]
     },
     "execution_count": 8,
     "metadata": {},
     "output_type": "execute_result"
    }
   ],
   "source": [
    "df.groupby(['City','State']).agg(\n",
    "    {'Store ID': lambda x: x.nunique()}).sort_values(\n",
    "    by = 'Store ID', ascending = False).mean()"
   ]
  },
  {
   "cell_type": "markdown",
   "metadata": {},
   "source": [
    "Here at State Level, this is probably good for comparison within states -- we would __assume stores within the same state performs more alike than stores perform in different state__. <br>\n",
    "e.g. A store in Alaska would be more similar to another store in Alaska than compared to a store in New York"
   ]
  },
  {
   "cell_type": "code",
   "execution_count": 9,
   "metadata": {},
   "outputs": [
    {
     "data": {
      "text/plain": [
       "104.59701492537313"
      ]
     },
     "execution_count": 9,
     "metadata": {},
     "output_type": "execute_result"
    }
   ],
   "source": [
    "df_state = df.groupby(['State']).agg(\n",
    "    {'Store ID': lambda x: x.nunique()}).sort_values(\n",
    "    by = 'Store ID', ascending = False).reset_index()\n",
    "\n",
    "df_state['Store ID'].mean()"
   ]
  },
  {
   "cell_type": "code",
   "execution_count": 10,
   "metadata": {},
   "outputs": [
    {
     "data": {
      "text/plain": [
       "Text(0.5, 1.0, 'Top 10 Total Stores by State')"
      ]
     },
     "execution_count": 10,
     "metadata": {},
     "output_type": "execute_result"
    },
    {
     "data": {
      "text/plain": [
       "<Figure size 792x360 with 0 Axes>"
      ]
     },
     "metadata": {},
     "output_type": "display_data"
    },
    {
     "data": {
      "image/png": "[encoded data removed]",
      "text/plain": [
       "<Figure size 432x288 with 1 Axes>"
      ]
     },
     "metadata": {
      "needs_background": "light"
     },
     "output_type": "display_data"
    }
   ],
   "source": [
    "plt.figure(figsize = (11,5) )\n",
    "df_state.sort_values(by = 'Store ID', ascending = False)[0:10].plot(x = 'State', y= 'Store ID', \n",
    "                                                                    kind = 'bar', legend = None)\n",
    "plt.ylabel('Total Stores')\n",
    "plt.title('Top 10 Total Stores by State')"
   ]
  },
  {
   "cell_type": "markdown",
   "metadata": {},
   "source": [
    "## Confounding Variables"
   ]
  },
  {
   "cell_type": "markdown",
   "metadata": {},
   "source": [
    "__It is vital to watch for confounding variables__ in correlation analysis"
   ]
  },
  {
   "cell_type": "markdown",
   "metadata": {},
   "source": [
    "# Paired Test Design"
   ]
  },
  {
   "cell_type": "markdown",
   "metadata": {},
   "source": [
    "## Subjective Way"
   ]
  },
  {
   "cell_type": "markdown",
   "metadata": {},
   "source": [
    "e.g. Find a best control unit for Store ID 111"
   ]
  },
  {
   "cell_type": "code",
   "execution_count": 11,
   "metadata": {},
   "outputs": [
    {
     "data": {
      "text/html": [
       "<div>\n",
       "<style scoped>\n",
       "    .dataframe tbody tr th:only-of-type {\n",
       "        vertical-align: middle;\n",
       "    }\n",
       "\n",
       "    .dataframe tbody tr th {\n",
       "        vertical-align: top;\n",
       "    }\n",
       "\n",
       "    .dataframe thead th {\n",
       "        text-align: right;\n",
       "    }\n",
       "</style>\n",
       "<table border=\"1\" class=\"dataframe\">\n",
       "  <thead>\n",
       "    <tr style=\"text-align: right;\">\n",
       "      <th></th>\n",
       "      <th>Store ID</th>\n",
       "      <th>City</th>\n",
       "      <th>State</th>\n",
       "      <th>Zip Code</th>\n",
       "      <th>Category Sales</th>\n",
       "      <th>Product Count</th>\n",
       "      <th>Size</th>\n",
       "    </tr>\n",
       "  </thead>\n",
       "  <tbody>\n",
       "    <tr>\n",
       "      <th>110</th>\n",
       "      <td>111</td>\n",
       "      <td>Irvine</td>\n",
       "      <td>CA</td>\n",
       "      <td>92618</td>\n",
       "      <td>9556.14</td>\n",
       "      <td>5</td>\n",
       "      <td>Large</td>\n",
       "    </tr>\n",
       "  </tbody>\n",
       "</table>\n",
       "</div>"
      ],
      "text/plain": [
       "     Store ID    City State  Zip Code  Category Sales  Product Count   Size\n",
       "110       111  Irvine    CA     92618         9556.14              5  Large"
      ]
     },
     "execution_count": 11,
     "metadata": {},
     "output_type": "execute_result"
    }
   ],
   "source": [
    "df[df['Store ID'] == 111]"
   ]
  },
  {
   "cell_type": "markdown",
   "metadata": {},
   "source": [
    "Thinking Process -- we need to find the store:\n",
    "- That are in the same state\n",
    "- Are similar in Sales\n",
    "- Have similar Product Count\n",
    "\n",
    "__Note__: Size has been ruled out from previous analysis as it does not contribute to Sales"
   ]
  },
  {
   "cell_type": "code",
   "execution_count": 12,
   "metadata": {},
   "outputs": [
    {
     "data": {
      "text/html": [
       "<div>\n",
       "<style scoped>\n",
       "    .dataframe tbody tr th:only-of-type {\n",
       "        vertical-align: middle;\n",
       "    }\n",
       "\n",
       "    .dataframe tbody tr th {\n",
       "        vertical-align: top;\n",
       "    }\n",
       "\n",
       "    .dataframe thead th {\n",
       "        text-align: right;\n",
       "    }\n",
       "</style>\n",
       "<table border=\"1\" class=\"dataframe\">\n",
       "  <thead>\n",
       "    <tr style=\"text-align: right;\">\n",
       "      <th></th>\n",
       "      <th>Store ID</th>\n",
       "      <th>City</th>\n",
       "      <th>State</th>\n",
       "      <th>Zip Code</th>\n",
       "      <th>Category Sales</th>\n",
       "      <th>Product Count</th>\n",
       "      <th>Size</th>\n",
       "    </tr>\n",
       "  </thead>\n",
       "  <tbody>\n",
       "    <tr>\n",
       "      <th>3497</th>\n",
       "      <td>3498</td>\n",
       "      <td>Santa Maria</td>\n",
       "      <td>CA</td>\n",
       "      <td>93455</td>\n",
       "      <td>9532.24</td>\n",
       "      <td>6</td>\n",
       "      <td>Large</td>\n",
       "    </tr>\n",
       "    <tr>\n",
       "      <th>5034</th>\n",
       "      <td>5035</td>\n",
       "      <td>Roseville</td>\n",
       "      <td>CA</td>\n",
       "      <td>95661</td>\n",
       "      <td>9602.96</td>\n",
       "      <td>5</td>\n",
       "      <td>Large</td>\n",
       "    </tr>\n",
       "    <tr>\n",
       "      <th>6107</th>\n",
       "      <td>6108</td>\n",
       "      <td>West Monroe</td>\n",
       "      <td>LA</td>\n",
       "      <td>71291</td>\n",
       "      <td>9557.29</td>\n",
       "      <td>5</td>\n",
       "      <td>Small</td>\n",
       "    </tr>\n",
       "  </tbody>\n",
       "</table>\n",
       "</div>"
      ],
      "text/plain": [
       "      Store ID         City State  Zip Code  Category Sales  Product Count  \\\n",
       "3497      3498  Santa Maria    CA     93455         9532.24              6   \n",
       "5034      5035    Roseville    CA     95661         9602.96              5   \n",
       "6107      6108  West Monroe    LA     71291         9557.29              5   \n",
       "\n",
       "       Size  \n",
       "3497  Large  \n",
       "5034  Large  \n",
       "6107  Small  "
      ]
     },
     "execution_count": 12,
     "metadata": {},
     "output_type": "execute_result"
    }
   ],
   "source": [
    "df[df['Store ID'].isin([3498,5035,6108])]"
   ]
  },
  {
   "cell_type": "markdown",
   "metadata": {},
   "source": [
    "This seems subjective using judgment -- there's a more systematic way to determine this"
   ]
  },
  {
   "cell_type": "markdown",
   "metadata": {},
   "source": [
    "## Using KD-Tree to find paired tests systematically"
   ]
  },
  {
   "cell_type": "code",
   "execution_count": 13,
   "metadata": {},
   "outputs": [
    {
     "data": {
      "text/html": [
       "<div>\n",
       "<style scoped>\n",
       "    .dataframe tbody tr th:only-of-type {\n",
       "        vertical-align: middle;\n",
       "    }\n",
       "\n",
       "    .dataframe tbody tr th {\n",
       "        vertical-align: top;\n",
       "    }\n",
       "\n",
       "    .dataframe thead th {\n",
       "        text-align: right;\n",
       "    }\n",
       "</style>\n",
       "<table border=\"1\" class=\"dataframe\">\n",
       "  <thead>\n",
       "    <tr style=\"text-align: right;\">\n",
       "      <th></th>\n",
       "      <th>Store ID</th>\n",
       "      <th>City</th>\n",
       "      <th>State</th>\n",
       "      <th>Zip Code</th>\n",
       "      <th>Category Sales</th>\n",
       "      <th>Product Count</th>\n",
       "      <th>Size</th>\n",
       "    </tr>\n",
       "  </thead>\n",
       "  <tbody>\n",
       "    <tr>\n",
       "      <th>0</th>\n",
       "      <td>332</td>\n",
       "      <td>La Mesa</td>\n",
       "      <td>CA</td>\n",
       "      <td>91942</td>\n",
       "      <td>56792.96</td>\n",
       "      <td>5</td>\n",
       "      <td>Large</td>\n",
       "    </tr>\n",
       "    <tr>\n",
       "      <th>1</th>\n",
       "      <td>944</td>\n",
       "      <td>Palmdale</td>\n",
       "      <td>CA</td>\n",
       "      <td>93551</td>\n",
       "      <td>41.50</td>\n",
       "      <td>1</td>\n",
       "      <td>Large</td>\n",
       "    </tr>\n",
       "    <tr>\n",
       "      <th>2</th>\n",
       "      <td>1181</td>\n",
       "      <td>Lake Elsinore</td>\n",
       "      <td>CA</td>\n",
       "      <td>92532</td>\n",
       "      <td>1514.11</td>\n",
       "      <td>4</td>\n",
       "      <td>Large</td>\n",
       "    </tr>\n",
       "    <tr>\n",
       "      <th>3</th>\n",
       "      <td>2696</td>\n",
       "      <td>Redondo Beach</td>\n",
       "      <td>CA</td>\n",
       "      <td>90278</td>\n",
       "      <td>2006.88</td>\n",
       "      <td>4</td>\n",
       "      <td>Large</td>\n",
       "    </tr>\n",
       "    <tr>\n",
       "      <th>4</th>\n",
       "      <td>2717</td>\n",
       "      <td>Thousand Oaks</td>\n",
       "      <td>CA</td>\n",
       "      <td>91320</td>\n",
       "      <td>80.04</td>\n",
       "      <td>2</td>\n",
       "      <td>Large</td>\n",
       "    </tr>\n",
       "  </tbody>\n",
       "</table>\n",
       "</div>"
      ],
      "text/plain": [
       "   Store ID           City State  Zip Code  Category Sales  Product Count  \\\n",
       "0       332        La Mesa    CA     91942        56792.96              5   \n",
       "1       944       Palmdale    CA     93551           41.50              1   \n",
       "2      1181  Lake Elsinore    CA     92532         1514.11              4   \n",
       "3      2696  Redondo Beach    CA     90278         2006.88              4   \n",
       "4      2717  Thousand Oaks    CA     91320           80.04              2   \n",
       "\n",
       "    Size  \n",
       "0  Large  \n",
       "1  Large  \n",
       "2  Large  \n",
       "3  Large  \n",
       "4  Large  "
      ]
     },
     "execution_count": 13,
     "metadata": {},
     "output_type": "execute_result"
    }
   ],
   "source": [
    "df_test = pd.read_csv(treatment)\n",
    "df_test.head()"
   ]
  },
  {
   "cell_type": "markdown",
   "metadata": {},
   "source": [
    "Above is our treatment group, we need to use `Category Sales` and `Product Count` as numeric variables to determine the nearest pair across all stores in __California__."
   ]
  },
  {
   "cell_type": "code",
   "execution_count": 16,
   "metadata": {},
   "outputs": [],
   "source": [
    "from sklearn.neighbors import KDTree\n",
    "df_group = df[df.State == 'CA'][['Category Sales', 'Product Count']]\n",
    "df_group_treatment = df_test[['Category Sales', 'Product Count']]\n",
    "\n",
    "tree = KDTree(df_group.values)"
   ]
  }
 ],
 "metadata": {
  "kernelspec": {
   "display_name": "Python 3",
   "language": "python",
   "name": "python3"
  },
  "language_info": {
   "codemirror_mode": {
    "name": "ipython",
    "version": 3
   },
   "file_extension": ".py",
   "mimetype": "text/x-python",
   "name": "python",
   "nbconvert_exporter": "python",
   "pygments_lexer": "ipython3",
   "version": "3.6.6"
  },
  "toc": {
   "base_numbering": 1,
   "nav_menu": {},
   "number_sections": true,
   "sideBar": true,
   "skip_h1_title": false,
   "title_cell": "Table of Contents",
   "title_sidebar": "Contents",
   "toc_cell": true,
   "toc_position": {},
   "toc_section_display": true,
   "toc_window_display": false
  },
  "varInspector": {
   "cols": {
    "lenName": 16,
    "lenType": 16,
    "lenVar": 40
   },
   "kernels_config": {
    "python": {
     "delete_cmd_postfix": "",
     "delete_cmd_prefix": "del ",
     "library": "var_list.py",
     "varRefreshCmd": "print(var_dic_list())"
    },
    "r": {
     "delete_cmd_postfix": ") ",
     "delete_cmd_prefix": "rm(",
     "library": "var_list.r",
     "varRefreshCmd": "cat(var_dic_list()) "
    }
   },
   "oldHeight": 249,
   "position": {
    "height": "271px",
    "left": "1332px",
    "right": "160px",
    "top": "120px",
    "width": "328px"
   },
   "types_to_exclude": [
    "module",
    "function",
    "builtin_function_or_method",
    "instance",
    "_Feature"
   ],
   "varInspector_section_display": "block",
   "window_display": true
  }
 },
 "nbformat": 4,
 "nbformat_minor": 2
}
