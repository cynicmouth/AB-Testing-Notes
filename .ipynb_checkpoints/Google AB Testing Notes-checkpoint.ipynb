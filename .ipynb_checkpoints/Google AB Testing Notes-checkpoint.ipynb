{
 "cells": [
  {
   "cell_type": "markdown",
   "metadata": {
    "toc": true
   },
   "source": [
    "<h1>Table of Contents<span class=\"tocSkip\"></span></h1>\n",
    "<div class=\"toc\"><ul class=\"toc-item\"><li><span><a href=\"#Lesson-1:-Overview-of-A/B-Testing\" data-toc-modified-id=\"Lesson-1:-Overview-of-A/B-Testing-1\"><span class=\"toc-item-num\">1&nbsp;&nbsp;</span>Lesson 1: Overview of A/B Testing</a></span><ul class=\"toc-item\"><li><span><a href=\"#A/B-Testing-Intro\" data-toc-modified-id=\"A/B-Testing-Intro-1.1\"><span class=\"toc-item-num\">1.1&nbsp;&nbsp;</span>A/B Testing Intro</a></span><ul class=\"toc-item\"><li><span><a href=\"#What-A/B-Testing-Is-Good-at:\" data-toc-modified-id=\"What-A/B-Testing-Is-Good-at:-1.1.1\"><span class=\"toc-item-num\">1.1.1&nbsp;&nbsp;</span>What A/B Testing Is Good at:</a></span></li><li><span><a href=\"#What-A/B-Testing-Cannot-Do:\" data-toc-modified-id=\"What-A/B-Testing-Cannot-Do:-1.1.2\"><span class=\"toc-item-num\">1.1.2&nbsp;&nbsp;</span>What A/B Testing Cannot Do:</a></span></li><li><span><a href=\"#Alternatives-when-A/B-Testing-cannot-do-the-job:\" data-toc-modified-id=\"Alternatives-when-A/B-Testing-cannot-do-the-job:-1.1.3\"><span class=\"toc-item-num\">1.1.3&nbsp;&nbsp;</span>Alternatives when A/B Testing cannot do the job:</a></span></li></ul></li><li><span><a href=\"#Example-Walk-Through\" data-toc-modified-id=\"Example-Walk-Through-1.2\"><span class=\"toc-item-num\">1.2&nbsp;&nbsp;</span>Example Walk Through</a></span><ul class=\"toc-item\"><li><span><a href=\"#Example:\" data-toc-modified-id=\"Example:-1.2.1\"><span class=\"toc-item-num\">1.2.1&nbsp;&nbsp;</span>Example:</a></span></li><li><span><a href=\"#Picking-A-Good-Metric\" data-toc-modified-id=\"Picking-A-Good-Metric-1.2.2\"><span class=\"toc-item-num\">1.2.2&nbsp;&nbsp;</span>Picking A Good Metric</a></span></li><li><span><a href=\"#Review-Statistics\" data-toc-modified-id=\"Review-Statistics-1.2.3\"><span class=\"toc-item-num\">1.2.3&nbsp;&nbsp;</span>Review Statistics</a></span><ul class=\"toc-item\"><li><span><a href=\"#Binomial-Distribution\" data-toc-modified-id=\"Binomial-Distribution-1.2.3.1\"><span class=\"toc-item-num\">1.2.3.1&nbsp;&nbsp;</span>Binomial Distribution</a></span></li></ul></li></ul></li></ul></li></ul></div>"
   ]
  },
  {
   "cell_type": "markdown",
   "metadata": {},
   "source": [
    "# Lesson 1: Overview of A/B Testing"
   ]
  },
  {
   "cell_type": "markdown",
   "metadata": {},
   "source": [
    "## A/B Testing Intro"
   ]
  },
  {
   "cell_type": "markdown",
   "metadata": {},
   "source": [
    "### What A/B Testing Is Good at:"
   ]
  },
  {
   "cell_type": "markdown",
   "metadata": {},
   "source": [
    "Generally A/B Testing can be used to test a variety of things:\n",
    "- Different Color Design\n",
    "- Recommendation Systems (e.g. Amazon -- product recommendation => shows huge revenue increase by adding that feature\n",
    "- Ranking Changes:\n",
    "    1. LinkedIn tested whether to use top slot on a user's stream for top news articles v.s. encouragement to add more contracts)\n",
    "    2. Google tested ranking changes for search results v.s. \n",
    "- Underlying infrastructure change: (e.g. Amazon -- every 100 ms increase in page load time decreases sales by 1%)\n"
   ]
  },
  {
   "cell_type": "markdown",
   "metadata": {},
   "source": [
    "### What A/B Testing Cannot Do:"
   ]
  },
  {
   "cell_type": "markdown",
   "metadata": {},
   "source": [
    "Things A/B Testing __CANNOT__ do or are __less useful__ in:\n",
    "- New Experiences: Change Aversion Users v.s. Novelty effect\n",
    "- Time Effect:\n",
    "    1. Novelty Effect itself -- do you want to wait until a plateau until user adapts to your new experience? If so, how long?\n",
    "    2. Time itself as to the nature of business: e.g. If you are running a rental website -- the length of people actually need to look for an apartment from time to time is really rare; how would you factor that in through short term A/B testing?\n",
    "    \n",
    "- __Cannot tell you if you are missing something__"
   ]
  },
  {
   "cell_type": "markdown",
   "metadata": {},
   "source": [
    "### Alternatives when A/B Testing cannot do the job:"
   ]
  },
  {
   "cell_type": "markdown",
   "metadata": {},
   "source": [
    "- Retrospective/Perspective Analysis\n",
    "- UX Research; Focus Group; Human Evaluation\n",
    "\n",
    "These can be helpful to provide qualitative data v.s. quantitative data from A/B Testing"
   ]
  },
  {
   "cell_type": "markdown",
   "metadata": {},
   "source": [
    "## Example Walk Through"
   ]
  },
  {
   "cell_type": "markdown",
   "metadata": {},
   "source": [
    "### Example:"
   ]
  },
  {
   "cell_type": "markdown",
   "metadata": {},
   "source": [
    "![Audacity Example](http://napitupulu-jon.appspot.com/galleries/abtesting/1w4.jpg)"
   ]
  },
  {
   "cell_type": "markdown",
   "metadata": {},
   "source": [
    "### Picking A Good Metric"
   ]
  },
  {
   "cell_type": "markdown",
   "metadata": {},
   "source": [
    "In the example from the course, we picked:\n",
    "$$\\text{click-through-rate (CTR)} = \\frac{\\text{Number of Clicks}}{\\text{Number of Page Views}}$$"
   ]
  },
  {
   "cell_type": "markdown",
   "metadata": {},
   "source": [
    "Alternatively, we can use:\n",
    "$$\\text{click-through-probability} = \\frac{\\text{Unique Visitors Who Click}}{\\text{Unique Visitors to Page}} $$"
   ]
  },
  {
   "cell_type": "markdown",
   "metadata": {},
   "source": [
    "----\n",
    "__Why using Click-through-probability instead of click-through-rate?__ <br>\n",
    "\n",
    "Generally Speaking: <br>\n",
    "- Use a rate when you want to measure the usability ==> i.e. How often users find that particular button/feature\n",
    "- Use probability when you want to measure total impact ==> i.e. Whether users progress to the next level of funnel or not (You probably don't care if they double clicked or reload the page as long as they get to the next page)"
   ]
  },
  {
   "cell_type": "markdown",
   "metadata": {},
   "source": [
    "### Review Statistics"
   ]
  },
  {
   "cell_type": "markdown",
   "metadata": {},
   "source": [
    "#### Binomial Distribution"
   ]
  },
  {
   "cell_type": "markdown",
   "metadata": {},
   "source": [
    "We can simulate a binomial distribution by tossing an uneven coin, with heads probability of 0.75 and tail probability of 0.25:"
   ]
  },
  {
   "cell_type": "code",
   "execution_count": 1,
   "metadata": {},
   "outputs": [],
   "source": [
    "import numpy as np\n",
    "from scipy.stats import binom\n",
    "\n",
    "np.random.seed(123)\n",
    "\n",
    "n, p = 10, 0.75\n",
    "dist = binom(n, p)"
   ]
  },
  {
   "cell_type": "markdown",
   "metadata": {},
   "source": [
    "We can see the following distribution with 10 flips:"
   ]
  },
  {
   "cell_type": "code",
   "execution_count": 2,
   "metadata": {},
   "outputs": [
    {
     "data": {
      "text/plain": [
       "Text(0, 0.5, 'Probability')"
      ]
     },
     "execution_count": 2,
     "metadata": {},
     "output_type": "execute_result"
    },
    {
     "data": {
      "image/png": "[encoded data removed]",
      "text/plain": [
       "<Figure size 432x288 with 1 Axes>"
      ]
     },
     "metadata": {
      "needs_background": "light"
     },
     "output_type": "display_data"
    }
   ],
   "source": [
    "%matplotlib inline\n",
    "import matplotlib.pyplot as plt\n",
    "\n",
    "x = np.arange(1,11)\n",
    "plt.bar(x, dist.pmf(x))\n",
    "plt.xlabel('Number of Heads')\n",
    "plt.ylabel('Probability')"
   ]
  },
  {
   "cell_type": "markdown",
   "metadata": {},
   "source": [
    "As we increase n, the distribution looks more like a normal distribution:"
   ]
  },
  {
   "cell_type": "code",
   "execution_count": 3,
   "metadata": {},
   "outputs": [
    {
     "data": {
      "text/plain": [
       "Text(0, 0.5, 'Probability')"
      ]
     },
     "execution_count": 3,
     "metadata": {},
     "output_type": "execute_result"
    },
    {
     "data": {
      "image/png": "[encoded data removed]",
      "text/plain": [
       "<Figure size 432x288 with 1 Axes>"
      ]
     },
     "metadata": {
      "needs_background": "light"
     },
     "output_type": "display_data"
    }
   ],
   "source": [
    "n, p = 30, 0.75\n",
    "x = np.arange(1,31)\n",
    "dist = binom(n,p)\n",
    "plt.bar(x, dist.pmf(x))\n",
    "plt.xlabel('Number of Heads')\n",
    "plt.ylabel('Probability')"
   ]
  },
  {
   "cell_type": "markdown",
   "metadata": {},
   "source": [
    "In order to use Binomial Distribution, the following __must__ hold:\n",
    "1. Only 2 Types of Outcomes:\n",
    "    - Heads\n",
    "    - Tails\n",
    "2. Each event is independent (__this can be tricky in real life__) -- i.e. the previous event would have no impact on the following event\n",
    "3. Identical distribution -- p needs to be same for all"
   ]
  },
  {
   "cell_type": "markdown",
   "metadata": {},
   "source": [
    "---\n",
    "Formula:\n",
    "$$ \\text{Mean = p} $$\n",
    "$$\\text{Standard Deviation} = \\sqrt{\\frac{p \\ (1-p)}{N}}$$"
   ]
  }
 ],
 "metadata": {
  "kernelspec": {
   "display_name": "Python 3",
   "language": "python",
   "name": "python3"
  },
  "language_info": {
   "codemirror_mode": {
    "name": "ipython",
    "version": 3
   },
   "file_extension": ".py",
   "mimetype": "text/x-python",
   "name": "python",
   "nbconvert_exporter": "python",
   "pygments_lexer": "ipython3",
   "version": "3.6.6"
  },
  "toc": {
   "base_numbering": 1,
   "nav_menu": {},
   "number_sections": true,
   "sideBar": true,
   "skip_h1_title": false,
   "title_cell": "Table of Contents",
   "title_sidebar": "Contents",
   "toc_cell": true,
   "toc_position": {},
   "toc_section_display": true,
   "toc_window_display": true
  },
  "varInspector": {
   "cols": {
    "lenName": 16,
    "lenType": 16,
    "lenVar": 40
   },
   "kernels_config": {
    "python": {
     "delete_cmd_postfix": "",
     "delete_cmd_prefix": "del ",
     "library": "var_list.py",
     "varRefreshCmd": "print(var_dic_list())"
    },
    "r": {
     "delete_cmd_postfix": ") ",
     "delete_cmd_prefix": "rm(",
     "library": "var_list.r",
     "varRefreshCmd": "cat(var_dic_list()) "
    }
   },
   "types_to_exclude": [
    "module",
    "function",
    "builtin_function_or_method",
    "instance",
    "_Feature"
   ],
   "window_display": false
  }
 },
 "nbformat": 4,
 "nbformat_minor": 2
}
